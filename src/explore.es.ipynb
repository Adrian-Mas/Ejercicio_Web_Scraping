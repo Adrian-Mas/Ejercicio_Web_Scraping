{
 "cells": [
  {
   "cell_type": "markdown",
   "metadata": {},
   "source": [
    "# Explora aquí\n",
    "\n",
    "Se recomienda utilizar este cuaderno con fines de exploración."
   ]
  },
  {
   "cell_type": "code",
   "execution_count": null,
   "metadata": {},
   "outputs": [],
   "source": [
    "import os\n",
    "from bs4 import BeautifulSoup\n",
    "import requests\n",
    "import time\n",
    "import sqlite3\n",
    "import matplotlib.pyplot as plt\n",
    "import seaborn as sns\n",
    "import re as re\n",
    "\n",
    "\n",
    "\n",
    "#URL del recurso \n",
    "resource_url = \"https://ycharts.com/companies/TSLA/revenues\"\n",
    "\n",
    "\n",
    "\n",
    "\n",
    "#Encabezados que simulan una solicitud desde un navegador\n",
    "\n",
    "headers = {\n",
    "    \"User-Agent\": \"Mozilla/5.0 (Windows NT 10.0; Win64; x64) AppleWebKit/537.36 (KHTML, like Gecko) Chrome/91.0.4472.124 Safari/537.36\",\n",
    "    \"Accept-Language\": \"en-US,en;q=0.9\",\n",
    "    \"Accept-Encoding\": \"gzip, deflate, br\",\n",
    "    \"Connection\": \"keep-alive\",\n",
    "}\n",
    "\n",
    "# Petición para descargar el fichero de Internet\n",
    "response = requests.get(resource_url, headers=headers)\n",
    "\n",
    "# Si la petición se ha ejecutado correctamente (código 200), entonces el contenido HTML de la página se ha podido descargar\n",
    "if response.status_code == 200:\n",
    "    # Transformamos el HTML plano en un HTML real (estructurado y anidado, con forma de árbol)\n",
    "    soup = BeautifulSoup(response.text, 'html.parser') # es más actual que usar solo 'html'\n",
    "\n",
    "print(response.status_code)\n",
    "\n",
    "soup\n",
    "\n",
    "\n",
    "# Obtener todos los elementos de tipo 'tr' del documento HTML\n",
    "Tr = soup.find_all(\"td\")\n",
    "\n",
    "print(Tr)\n",
    "\n",
    "\n"
   ]
  }
 ],
 "metadata": {
  "kernelspec": {
   "display_name": "Python 3",
   "language": "python",
   "name": "python3"
  },
  "language_info": {
   "codemirror_mode": {
    "name": "ipython",
    "version": 3
   },
   "file_extension": ".py",
   "mimetype": "text/x-python",
   "name": "python",
   "nbconvert_exporter": "python",
   "pygments_lexer": "ipython3",
   "version": "3.11.4"
  },
  "orig_nbformat": 4
 },
 "nbformat": 4,
 "nbformat_minor": 2
}
